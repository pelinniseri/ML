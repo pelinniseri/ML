{
 "cells": [
  {
   "cell_type": "markdown",
   "id": "762384b2",
   "metadata": {},
   "source": [
    "# <p style = \"font-size : 50px; color : #099 ; font-family : 'Comic Sans MS'; text-align : center; border-radius: 5px 5px;\"><strong>Heart Attack Data Analysis</strong></p>"
   ]
  },
  {
   "cell_type": "markdown",
   "id": "004aa61f",
   "metadata": {},
   "source": [
    "## Import Libraries"
   ]
  },
  {
   "cell_type": "code",
   "execution_count": 6,
   "id": "19bcc1f5",
   "metadata": {},
   "outputs": [],
   "source": [
    "import numpy as np\n",
    "import pandas as pd\n",
    "import matplotlib.pyplot as plt\n",
    "import seaborn as sns ;  sns.set_theme()\n"
   ]
  },
  {
   "cell_type": "markdown",
   "id": "cb894f8f",
   "metadata": {},
   "source": [
    "## Load Dataset"
   ]
  },
  {
   "cell_type": "code",
   "execution_count": 7,
   "id": "44c48fdf",
   "metadata": {},
   "outputs": [
    {
     "data": {
      "text/html": [
       "<div>\n",
       "<style scoped>\n",
       "    .dataframe tbody tr th:only-of-type {\n",
       "        vertical-align: middle;\n",
       "    }\n",
       "\n",
       "    .dataframe tbody tr th {\n",
       "        vertical-align: top;\n",
       "    }\n",
       "\n",
       "    .dataframe thead th {\n",
       "        text-align: right;\n",
       "    }\n",
       "</style>\n",
       "<table border=\"1\" class=\"dataframe\">\n",
       "  <thead>\n",
       "    <tr style=\"text-align: right;\">\n",
       "      <th></th>\n",
       "      <th>age</th>\n",
       "      <th>sex</th>\n",
       "      <th>cp</th>\n",
       "      <th>trtbps</th>\n",
       "      <th>chol</th>\n",
       "      <th>fbs</th>\n",
       "      <th>restecg</th>\n",
       "      <th>thalachh</th>\n",
       "      <th>exng</th>\n",
       "      <th>oldpeak</th>\n",
       "      <th>slp</th>\n",
       "      <th>caa</th>\n",
       "      <th>thall</th>\n",
       "      <th>output</th>\n",
       "    </tr>\n",
       "  </thead>\n",
       "  <tbody>\n",
       "    <tr>\n",
       "      <th>0</th>\n",
       "      <td>63</td>\n",
       "      <td>1</td>\n",
       "      <td>3</td>\n",
       "      <td>145</td>\n",
       "      <td>233</td>\n",
       "      <td>1</td>\n",
       "      <td>0</td>\n",
       "      <td>150</td>\n",
       "      <td>0</td>\n",
       "      <td>2.3</td>\n",
       "      <td>0</td>\n",
       "      <td>0</td>\n",
       "      <td>1</td>\n",
       "      <td>1</td>\n",
       "    </tr>\n",
       "    <tr>\n",
       "      <th>1</th>\n",
       "      <td>37</td>\n",
       "      <td>1</td>\n",
       "      <td>2</td>\n",
       "      <td>130</td>\n",
       "      <td>250</td>\n",
       "      <td>0</td>\n",
       "      <td>1</td>\n",
       "      <td>187</td>\n",
       "      <td>0</td>\n",
       "      <td>3.5</td>\n",
       "      <td>0</td>\n",
       "      <td>0</td>\n",
       "      <td>2</td>\n",
       "      <td>1</td>\n",
       "    </tr>\n",
       "    <tr>\n",
       "      <th>2</th>\n",
       "      <td>41</td>\n",
       "      <td>0</td>\n",
       "      <td>1</td>\n",
       "      <td>130</td>\n",
       "      <td>204</td>\n",
       "      <td>0</td>\n",
       "      <td>0</td>\n",
       "      <td>172</td>\n",
       "      <td>0</td>\n",
       "      <td>1.4</td>\n",
       "      <td>2</td>\n",
       "      <td>0</td>\n",
       "      <td>2</td>\n",
       "      <td>1</td>\n",
       "    </tr>\n",
       "    <tr>\n",
       "      <th>3</th>\n",
       "      <td>56</td>\n",
       "      <td>1</td>\n",
       "      <td>1</td>\n",
       "      <td>120</td>\n",
       "      <td>236</td>\n",
       "      <td>0</td>\n",
       "      <td>1</td>\n",
       "      <td>178</td>\n",
       "      <td>0</td>\n",
       "      <td>0.8</td>\n",
       "      <td>2</td>\n",
       "      <td>0</td>\n",
       "      <td>2</td>\n",
       "      <td>1</td>\n",
       "    </tr>\n",
       "    <tr>\n",
       "      <th>4</th>\n",
       "      <td>57</td>\n",
       "      <td>0</td>\n",
       "      <td>0</td>\n",
       "      <td>120</td>\n",
       "      <td>354</td>\n",
       "      <td>0</td>\n",
       "      <td>1</td>\n",
       "      <td>163</td>\n",
       "      <td>1</td>\n",
       "      <td>0.6</td>\n",
       "      <td>2</td>\n",
       "      <td>0</td>\n",
       "      <td>2</td>\n",
       "      <td>1</td>\n",
       "    </tr>\n",
       "  </tbody>\n",
       "</table>\n",
       "</div>"
      ],
      "text/plain": [
       "   age  sex  cp  trtbps  chol  fbs  restecg  thalachh  exng  oldpeak  slp  \\\n",
       "0   63    1   3     145   233    1        0       150     0      2.3    0   \n",
       "1   37    1   2     130   250    0        1       187     0      3.5    0   \n",
       "2   41    0   1     130   204    0        0       172     0      1.4    2   \n",
       "3   56    1   1     120   236    0        1       178     0      0.8    2   \n",
       "4   57    0   0     120   354    0        1       163     1      0.6    2   \n",
       "\n",
       "   caa  thall  output  \n",
       "0    0      1       1  \n",
       "1    0      2       1  \n",
       "2    0      2       1  \n",
       "3    0      2       1  \n",
       "4    0      2       1  "
      ]
     },
     "execution_count": 7,
     "metadata": {},
     "output_type": "execute_result"
    }
   ],
   "source": [
    "heart_dataset_filepath = \"C:/Users/z004fuuz/Desktop/ML/heart.csv\" \n",
    "heart_dataset = pd.read_csv(heart_dataset_filepath)\n",
    "heart_dataset.head()"
   ]
  },
  {
   "cell_type": "markdown",
   "id": "ea7c77f8",
   "metadata": {},
   "source": [
    "## Features and Meanings"
   ]
  },
  {
   "cell_type": "markdown",
   "id": "81aae1f8",
   "metadata": {},
   "source": [
    "- Age : age\n",
    "- Sex : sex (1: male 0: female)\n",
    "- CP : chest pain (from 1 to 4 chest pain types)\n",
    "- CHOL : cholesterol (200–239 is normal)\n",
    "- FBS : fasting blood sugar (0 or 1)(1 is diabetic)\n",
    "- RESTECG : resting electrocardiographic results (0: normal 1: bad 2: very bad)\n",
    "- THALACHH : maximum heart rate achieved\n",
    "- EXNG (EXANG) : exercise induced angina (angina : chest pain 1: exists 0: normal)\n",
    "- OLDPEAK: ST depression induced by exercise (more than 1 mm is abnormal)\n",
    "- SLP (SLOPE) : slope of ST depression (1: up 2: stabil 3: down)\n",
    "- CAA : number of major vessels (from 0 to 3)\n",
    "- THALL : genetic blood disorder \n",
    "- OUTPUT :  0: low risk 1: high risk\n",
    "\n",
    "#### Source : https://archive.ics.uci.edu/ml/datasets/heart%2BDisease"
   ]
  },
  {
   "cell_type": "markdown",
   "id": "e0f5233b",
   "metadata": {},
   "source": [
    "## Data and Feature Numbers"
   ]
  },
  {
   "cell_type": "code",
   "execution_count": 6,
   "id": "4387e69b",
   "metadata": {},
   "outputs": [
    {
     "data": {
      "text/plain": [
       "(303, 14)"
      ]
     },
     "execution_count": 6,
     "metadata": {},
     "output_type": "execute_result"
    }
   ],
   "source": [
    "heart_dataset.shape"
   ]
  },
  {
   "cell_type": "markdown",
   "id": "1da694ac",
   "metadata": {},
   "source": [
    "## Delete missing values"
   ]
  },
  {
   "cell_type": "code",
   "execution_count": 7,
   "id": "8453882d",
   "metadata": {},
   "outputs": [
    {
     "data": {
      "text/plain": [
       "age         0\n",
       "sex         0\n",
       "cp          0\n",
       "trtbps      0\n",
       "chol        0\n",
       "fbs         0\n",
       "restecg     0\n",
       "thalachh    0\n",
       "exng        0\n",
       "oldpeak     0\n",
       "slp         0\n",
       "caa         0\n",
       "thall       0\n",
       "output      0\n",
       "dtype: int64"
      ]
     },
     "execution_count": 7,
     "metadata": {},
     "output_type": "execute_result"
    }
   ],
   "source": [
    "heart_dataset.isnull().sum()"
   ]
  },
  {
   "cell_type": "markdown",
   "id": "e940ecbb",
   "metadata": {},
   "source": [
    "## Data Distribution"
   ]
  },
  {
   "cell_type": "code",
   "execution_count": 8,
   "id": "1dc92603",
   "metadata": {},
   "outputs": [
    {
     "data": {
      "text/plain": [
       "<AxesSubplot:title={'center':'Sex Variable'}>"
      ]
     },
     "execution_count": 8,
     "metadata": {},
     "output_type": "execute_result"
    },
    {
     "data": {
      "image/png": "[encoded data removed]",
      "text/plain": [
       "<Figure size 432x288 with 1 Axes>"
      ]
     },
     "metadata": {},
     "output_type": "display_data"
    }
   ],
   "source": [
    "heart_dataset[\"sex\"].value_counts(normalize = True).plot.bar(title = \"Sex Variable\")"
   ]
  },
  {
   "cell_type": "markdown",
   "id": "6f796de2",
   "metadata": {},
   "source": [
    "- male number is 2x female number"
   ]
  },
  {
   "cell_type": "code",
   "execution_count": 9,
   "id": "71515ff5",
   "metadata": {},
   "outputs": [
    {
     "data": {
      "text/plain": [
       "<AxesSubplot:title={'center':'caa'}>"
      ]
     },
     "execution_count": 9,
     "metadata": {},
     "output_type": "execute_result"
    },
    {
     "data": {
      "image/png": "[encoded data removed]",
      "text/plain": [
       "<Figure size 576x360 with 4 Axes>"
      ]
     },
     "metadata": {},
     "output_type": "display_data"
    }
   ],
   "source": [
    "plt.figure(figsize=(8,5))\n",
    "plt.subplot(221)\n",
    "heart_dataset[\"cp\"].value_counts().plot.bar(title=\"cp\")\n",
    "plt.subplot(222)\n",
    "heart_dataset[\"fbs\"].value_counts().plot.bar(title=\"fbs\")\n",
    "plt.subplot(223)\n",
    "heart_dataset[\"restecg\"].value_counts().plot.bar(title=\"restecg\")\n",
    "plt.subplot(224)\n",
    "heart_dataset[\"caa\"].value_counts().plot.bar(title=\"caa\")"
   ]
  },
  {
   "cell_type": "code",
   "execution_count": 10,
   "id": "475ea8b2",
   "metadata": {},
   "outputs": [
    {
     "data": {
      "text/plain": [
       "<AxesSubplot:title={'center':'Output Varible'}>"
      ]
     },
     "execution_count": 10,
     "metadata": {},
     "output_type": "execute_result"
    },
    {
     "data": {
      "image/png": "[encoded data removed]",
      "text/plain": [
       "<Figure size 432x288 with 1 Axes>"
      ]
     },
     "metadata": {},
     "output_type": "display_data"
    }
   ],
   "source": [
    "heart_dataset[\"output\"].value_counts().plot.bar(title = \"Output Varible\")"
   ]
  },
  {
   "cell_type": "markdown",
   "id": "8812cce8",
   "metadata": {},
   "source": [
    "- High and low risk outputs are close"
   ]
  },
  {
   "cell_type": "code",
   "execution_count": 11,
   "id": "f157c3f6",
   "metadata": {},
   "outputs": [
    {
     "data": {
      "text/plain": [
       "<AxesSubplot:title={'center':'age'}, ylabel='Frequency'>"
      ]
     },
     "execution_count": 11,
     "metadata": {},
     "output_type": "execute_result"
    },
    {
     "data": {
      "image/png": "[encoded data removed]",
      "text/plain": [
       "<Figure size 432x288 with 1 Axes>"
      ]
     },
     "metadata": {},
     "output_type": "display_data"
    }
   ],
   "source": [
    "heart_dataset[\"age\"].plot.hist(title=\"age\")"
   ]
  },
  {
   "cell_type": "markdown",
   "id": "4f2c7c8c",
   "metadata": {},
   "source": [
    "## Check for Outliers"
   ]
  },
  {
   "cell_type": "code",
   "execution_count": 12,
   "id": "c24d24a7",
   "metadata": {},
   "outputs": [],
   "source": [
    "from scipy import stats"
   ]
  },
  {
   "cell_type": "code",
   "execution_count": 13,
   "id": "ae831bd5",
   "metadata": {},
   "outputs": [
    {
     "data": {
      "text/plain": [
       "<AxesSubplot:xlabel='oldpeak'>"
      ]
     },
     "execution_count": 13,
     "metadata": {},
     "output_type": "execute_result"
    },
    {
     "data": {
      "image/png": "[encoded data removed]",
      "text/plain": [
       "<Figure size 432x288 with 1 Axes>"
      ]
     },
     "metadata": {},
     "output_type": "display_data"
    }
   ],
   "source": [
    "sns.boxplot(x=heart_dataset[\"oldpeak\"])"
   ]
  },
  {
   "cell_type": "code",
   "execution_count": 14,
   "id": "825f0bd0",
   "metadata": {},
   "outputs": [
    {
     "data": {
      "text/plain": [
       "<AxesSubplot:xlabel='thalachh'>"
      ]
     },
     "execution_count": 14,
     "metadata": {},
     "output_type": "execute_result"
    },
    {
     "data": {
      "image/png": "[encoded data removed]",
      "text/plain": [
       "<Figure size 432x288 with 1 Axes>"
      ]
     },
     "metadata": {},
     "output_type": "display_data"
    }
   ],
   "source": [
    "sns.boxplot(x=heart_dataset[\"thalachh\"])"
   ]
  },
  {
   "cell_type": "markdown",
   "id": "f5d86b54",
   "metadata": {},
   "source": [
    "#### Detect Outliers"
   ]
  },
  {
   "cell_type": "code",
   "execution_count": 15,
   "id": "ca3f1c14",
   "metadata": {},
   "outputs": [
    {
     "data": {
      "text/plain": [
       "(array([ 28,  48,  85,  92, 158, 163, 164, 204, 220, 221, 223, 246, 248,\n",
       "        251, 272, 281], dtype=int64),\n",
       " array([ 4, 12,  4, 11, 11, 11, 11,  9,  4,  9,  3,  4,  3, 11,  7, 12],\n",
       "       dtype=int64))"
      ]
     },
     "execution_count": 15,
     "metadata": {},
     "output_type": "execute_result"
    }
   ],
   "source": [
    "zscore = stats.zscore(heart_dataset)\n",
    "zscore_abs = np.abs(zscore)\n",
    "treshold = 3\n",
    "np.where(zscore_abs>3) "
   ]
  },
  {
   "cell_type": "markdown",
   "id": "909fc043",
   "metadata": {},
   "source": [
    "#### Delete Outliers"
   ]
  },
  {
   "cell_type": "code",
   "execution_count": 16,
   "id": "debabc1d",
   "metadata": {},
   "outputs": [],
   "source": [
    "heart_dataset = heart_dataset[(zscore_abs < 3).all(axis=1)] #outliers deleted"
   ]
  },
  {
   "cell_type": "code",
   "execution_count": 17,
   "id": "b9d033a6",
   "metadata": {},
   "outputs": [
    {
     "data": {
      "text/plain": [
       "<AxesSubplot:xlabel='oldpeak'>"
      ]
     },
     "execution_count": 17,
     "metadata": {},
     "output_type": "execute_result"
    },
    {
     "data": {
      "image/png": "[encoded data removed]",
      "text/plain": [
       "<Figure size 432x288 with 1 Axes>"
      ]
     },
     "metadata": {},
     "output_type": "display_data"
    }
   ],
   "source": [
    "sns.boxplot(x=heart_dataset[\"oldpeak\"])"
   ]
  },
  {
   "cell_type": "code",
   "execution_count": 18,
   "id": "88cdf298",
   "metadata": {},
   "outputs": [
    {
     "data": {
      "text/plain": [
       "<AxesSubplot:xlabel='thalachh'>"
      ]
     },
     "execution_count": 18,
     "metadata": {},
     "output_type": "execute_result"
    },
    {
     "data": {
      "image/png": "[encoded data removed]",
      "text/plain": [
       "<Figure size 432x288 with 1 Axes>"
      ]
     },
     "metadata": {},
     "output_type": "display_data"
    }
   ],
   "source": [
    "sns.boxplot(x=heart_dataset[\"thalachh\"])"
   ]
  },
  {
   "cell_type": "markdown",
   "id": "93300a55",
   "metadata": {},
   "source": [
    "## Heatmap"
   ]
  },
  {
   "cell_type": "code",
   "execution_count": 19,
   "id": "96b0d44e",
   "metadata": {},
   "outputs": [
    {
     "data": {
      "image/png": "[encoded data removed]",
      "text/plain": [
       "<Figure size 1080x720 with 2 Axes>"
      ]
     },
     "metadata": {},
     "output_type": "display_data"
    }
   ],
   "source": [
    "plt.figure(figsize=(15,10))\n",
    "correlation_df = heart_dataset.corr() #gives correlation as negative or positive number\n",
    "sns.heatmap(correlation_df,cmap=\"YlGnBu\", annot = True, vmin=-1, vmax = 1)  \n",
    "plt.show()"
   ]
  },
  {
   "cell_type": "markdown",
   "id": "8f708dd3",
   "metadata": {},
   "source": [
    "#### Result: Variables who have relationships with output -> AGE, SEX, CP, THALACHH, EXNG, OLDPEAK, CAA and THALL"
   ]
  },
  {
   "cell_type": "markdown",
   "id": "624b3db1",
   "metadata": {},
   "source": [
    "## Heart Attack related with Sex"
   ]
  },
  {
   "cell_type": "code",
   "execution_count": 20,
   "id": "d574b5be",
   "metadata": {},
   "outputs": [
    {
     "data": {
      "text/plain": [
       "<AxesSubplot:xlabel='sex', ylabel='count'>"
      ]
     },
     "execution_count": 20,
     "metadata": {},
     "output_type": "execute_result"
    },
    {
     "data": {
      "image/png": "[encoded data removed]",
      "text/plain": [
       "<Figure size 432x288 with 1 Axes>"
      ]
     },
     "metadata": {},
     "output_type": "display_data"
    }
   ],
   "source": [
    "sns.countplot(data = heart_dataset, x = \"sex\", hue = \"output\") \n",
    "#remember 0:female 1:male"
   ]
  },
  {
   "cell_type": "markdown",
   "id": "64880c9f",
   "metadata": {},
   "source": [
    "#### Result: Females (0) have more chance to get heart attack"
   ]
  },
  {
   "cell_type": "markdown",
   "id": "442a0e5b",
   "metadata": {},
   "source": [
    "## Heart Attack Related with Age "
   ]
  },
  {
   "cell_type": "code",
   "execution_count": 21,
   "id": "32567852",
   "metadata": {},
   "outputs": [
    {
     "data": {
      "text/plain": [
       "<AxesSubplot:xlabel='age', ylabel='count'>"
      ]
     },
     "execution_count": 21,
     "metadata": {},
     "output_type": "execute_result"
    },
    {
     "data": {
      "image/png": "[encoded data removed]",
      "text/plain": [
       "<Figure size 720x360 with 1 Axes>"
      ]
     },
     "metadata": {},
     "output_type": "display_data"
    }
   ],
   "source": [
    "plt.figure(figsize=(10,5))\n",
    "sns.countplot(x=heart_dataset[\"age\"], hue=heart_dataset[\"output\"])"
   ]
  },
  {
   "cell_type": "markdown",
   "id": "eb2bfe42",
   "metadata": {},
   "source": [
    "#### Result: People who are younger have more chance to have heart attack."
   ]
  },
  {
   "cell_type": "markdown",
   "id": "4bc1c8c4",
   "metadata": {},
   "source": [
    "## Heart Attack related with Chest Pain Classes"
   ]
  },
  {
   "cell_type": "code",
   "execution_count": 22,
   "id": "492dc653",
   "metadata": {},
   "outputs": [
    {
     "data": {
      "text/plain": [
       "<AxesSubplot:xlabel='cp', ylabel='count'>"
      ]
     },
     "execution_count": 22,
     "metadata": {},
     "output_type": "execute_result"
    },
    {
     "data": {
      "image/png": "[encoded data removed]",
      "text/plain": [
       "<Figure size 432x288 with 1 Axes>"
      ]
     },
     "metadata": {},
     "output_type": "display_data"
    }
   ],
   "source": [
    "sns.countplot(data = heart_dataset ,x=\"cp\", hue=\"output\")"
   ]
  },
  {
   "cell_type": "markdown",
   "id": "518462b0",
   "metadata": {},
   "source": [
    "#### People with chest pain type 2 have higher chance to have heart attack."
   ]
  },
  {
   "cell_type": "markdown",
   "id": "4d11bc5a",
   "metadata": {},
   "source": [
    "## Heart Attack related with Thall"
   ]
  },
  {
   "cell_type": "code",
   "execution_count": 23,
   "id": "496d28bc",
   "metadata": {},
   "outputs": [
    {
     "data": {
      "text/plain": [
       "<AxesSubplot:xlabel='thall', ylabel='count'>"
      ]
     },
     "execution_count": 23,
     "metadata": {},
     "output_type": "execute_result"
    },
    {
     "data": {
      "image/png": "[encoded data removed]",
      "text/plain": [
       "<Figure size 432x288 with 1 Axes>"
      ]
     },
     "metadata": {},
     "output_type": "display_data"
    }
   ],
   "source": [
    "sns.countplot(x=heart_dataset[\"thall\"], hue =heart_dataset[\"output\"])"
   ]
  },
  {
   "cell_type": "markdown",
   "id": "26cf08a2",
   "metadata": {},
   "source": [
    "#### Result: People with thall type 2 have more chance to have heart attack."
   ]
  },
  {
   "cell_type": "markdown",
   "id": "e67546aa",
   "metadata": {},
   "source": [
    "## Heart Attack related with Exng - Exercise Induced Angina"
   ]
  },
  {
   "cell_type": "code",
   "execution_count": 24,
   "id": "6c604031",
   "metadata": {},
   "outputs": [
    {
     "data": {
      "text/plain": [
       "<AxesSubplot:xlabel='exng', ylabel='count'>"
      ]
     },
     "execution_count": 24,
     "metadata": {},
     "output_type": "execute_result"
    },
    {
     "data": {
      "image/png": "[encoded data removed]",
      "text/plain": [
       "<Figure size 432x288 with 1 Axes>"
      ]
     },
     "metadata": {},
     "output_type": "display_data"
    }
   ],
   "source": [
    "sns.countplot(x = heart_dataset[\"exng\"], hue = heart_dataset[\"output\"])"
   ]
  },
  {
   "cell_type": "markdown",
   "id": "722caa15",
   "metadata": {},
   "source": [
    "#### Result: People with exng:0 have more chance to have heart attack."
   ]
  },
  {
   "cell_type": "markdown",
   "id": "78ce4df0",
   "metadata": {},
   "source": [
    "## Heart Attack relation with OldPeak"
   ]
  },
  {
   "cell_type": "code",
   "execution_count": 25,
   "id": "cf52db05",
   "metadata": {},
   "outputs": [
    {
     "data": {
      "text/plain": [
       "<AxesSubplot:xlabel='oldpeak', ylabel='count'>"
      ]
     },
     "execution_count": 25,
     "metadata": {},
     "output_type": "execute_result"
    },
    {
     "data": {
      "image/png": "[encoded data removed]",
      "text/plain": [
       "<Figure size 1440x360 with 1 Axes>"
      ]
     },
     "metadata": {},
     "output_type": "display_data"
    }
   ],
   "source": [
    "plt.figure(figsize=(20,5))\n",
    "sns.countplot(x = heart_dataset[\"oldpeak\"], hue = heart_dataset[\"output\"])"
   ]
  },
  {
   "cell_type": "markdown",
   "id": "d18489df",
   "metadata": {},
   "source": [
    "#### Result: People with less oldpeak have higher chance to have heart attack."
   ]
  },
  {
   "cell_type": "markdown",
   "id": "5ad55cfe",
   "metadata": {},
   "source": [
    "## Heart Attack relation with Thalachh"
   ]
  },
  {
   "cell_type": "code",
   "execution_count": 26,
   "id": "3be778e2",
   "metadata": {},
   "outputs": [
    {
     "data": {
      "text/plain": [
       "<AxesSubplot:xlabel='thalachh', ylabel='count'>"
      ]
     },
     "execution_count": 26,
     "metadata": {},
     "output_type": "execute_result"
    },
    {
     "data": {
      "image/png": "[encoded data removed]",
      "text/plain": [
       "<Figure size 1440x360 with 1 Axes>"
      ]
     },
     "metadata": {},
     "output_type": "display_data"
    }
   ],
   "source": [
    "plt.figure(figsize = (20,5))\n",
    "sns.countplot(x = heart_dataset[\"thalachh\"], hue=heart_dataset[\"output\"])"
   ]
  },
  {
   "cell_type": "markdown",
   "id": "09e02e3a",
   "metadata": {},
   "source": [
    "#### Result: People with higher thalachh have more chance to have heart attack."
   ]
  },
  {
   "cell_type": "markdown",
   "id": "151dc33f",
   "metadata": {},
   "source": [
    "## Evaluate Data Analysis"
   ]
  },
  {
   "cell_type": "markdown",
   "id": "a6e1edbb",
   "metadata": {},
   "source": [
    "Variables who have relationships with output -> CP, THALL, EXNG, OLDPEAK, THALACHH SEX and AGE\n",
    "- SEX : Females (0) have more chance to get heart attack\n",
    "- AGE: People who are younger have more chance to have heart attack.\n",
    "- CP : People with chest pain type 2 have higher chance to have heart attack.\n",
    "- EXNG : People with exng:0 have more chance to have heart attack.\n",
    "- OLDPEAK : People with less oldpeak have higher chance to have heart attack.\n",
    "- THALL : People with thall type 2 have more chance to have heart attack.\n",
    "- THALACHH : People with higher thalachh have more chance to have heart attack."
   ]
  },
  {
   "cell_type": "markdown",
   "id": "3af2b63a",
   "metadata": {},
   "source": [
    "# <p style = \"font-size : 50px; color : #099 ; font-family : 'Comic Sans MS'; text-align : center; border-radius: 5px 5px;\"><strong>Heart Attack Data Prediction</strong></p>"
   ]
  },
  {
   "cell_type": "markdown",
   "id": "9ee389fd",
   "metadata": {},
   "source": [
    "## Prepare Data"
   ]
  },
  {
   "cell_type": "code",
   "execution_count": 8,
   "id": "2639e095",
   "metadata": {},
   "outputs": [],
   "source": [
    "from sklearn.model_selection import train_test_split\n",
    "y = heart_dataset[\"output\"]\n",
    "X = heart_dataset.drop(\"output\", axis = 1)\n",
    "X_train, X_test, y_train, y_test = train_test_split(X, y, test_size= 0.2, random_state = 42)"
   ]
  },
  {
   "cell_type": "code",
   "execution_count": 9,
   "id": "3d200b5c",
   "metadata": {},
   "outputs": [
    {
     "data": {
      "text/plain": [
       "((242, 13), (61, 13), (242,), (61,))"
      ]
     },
     "execution_count": 9,
     "metadata": {},
     "output_type": "execute_result"
    }
   ],
   "source": [
    "X_train.shape, X_test.shape, y_train.shape, y_test.shape"
   ]
  },
  {
   "cell_type": "markdown",
   "id": "68e79443",
   "metadata": {},
   "source": [
    "## Feature Scaling"
   ]
  },
  {
   "cell_type": "code",
   "execution_count": 10,
   "id": "76392e78",
   "metadata": {},
   "outputs": [],
   "source": [
    "from sklearn import preprocessing"
   ]
  },
  {
   "cell_type": "markdown",
   "id": "359f1481",
   "metadata": {},
   "source": [
    "#### Min Max Scaling"
   ]
  },
  {
   "cell_type": "code",
   "execution_count": 11,
   "id": "90179540",
   "metadata": {},
   "outputs": [],
   "source": [
    "min_max_scaler = preprocessing.MinMaxScaler(feature_range=(0,1))\n",
    "X_train_after_min_max_scaler = min_max_scaler.fit_transform(X_train)\n",
    "X_test_after_min_max_scaler = min_max_scaler.fit_transform(X_test)"
   ]
  },
  {
   "cell_type": "markdown",
   "id": "f6ee06de",
   "metadata": {},
   "source": [
    "#### Standart Scaling"
   ]
  },
  {
   "cell_type": "code",
   "execution_count": 12,
   "id": "66062186",
   "metadata": {},
   "outputs": [],
   "source": [
    "standard_scaler = preprocessing.StandardScaler()\n",
    "standard_scaled_dataset = standard_scaler.fit(heart_dataset)\n"
   ]
  },
  {
   "cell_type": "markdown",
   "id": "2754ce65",
   "metadata": {},
   "source": [
    "#### Robust Scaler\n",
    "\n",
    "Because this scaler is robust to outliers."
   ]
  },
  {
   "cell_type": "code",
   "execution_count": 13,
   "id": "fea19af2",
   "metadata": {},
   "outputs": [],
   "source": [
    "robust_scaler = preprocessing.RobustScaler()\n",
    "X_train_after_robust_scaler = robust_scaler.fit_transform(X_train)\n",
    "X_test_after_robust_scaler = robust_scaler.fit_transform(X_test)\n"
   ]
  },
  {
   "cell_type": "markdown",
   "id": "3fe42f93",
   "metadata": {},
   "source": [
    "## Prepare Train and Test Datasets"
   ]
  },
  {
   "cell_type": "markdown",
   "id": "81c3d7c5",
   "metadata": {},
   "source": [
    "Y = heart_dataset[\"output\"]\n",
    "X = heart_dataset.drop(\"output\",axis=1)\n",
    "from sklearn.model_selection import train_test_split\n",
    "X_train, X_test, y_train, y_test = train_test_split(X,Y, train_size = 0.9, random_state = 42)\n",
    "X_train.shape , y_train.shape\n"
   ]
  },
  {
   "cell_type": "markdown",
   "id": "0273de38",
   "metadata": {},
   "source": [
    "## Linear Regression"
   ]
  },
  {
   "cell_type": "code",
   "execution_count": 40,
   "id": "bdd1ebc4",
   "metadata": {},
   "outputs": [
    {
     "name": "stdout",
     "output_type": "stream",
     "text": [
      "Error rate:\n",
      "30.32538693637445\n"
     ]
    }
   ],
   "source": [
    "from sklearn.linear_model import LinearRegression\n",
    "linear_regression_model = LinearRegression()\n",
    "linear_regression_model.fit(X_train, y_train)\n",
    "prediction = linear_regression_model.predict(X_test)\n",
    "\n",
    "from sklearn.metrics import mean_absolute_error\n",
    "print(\"Error rate:\")\n",
    "print(mean_absolute_error(prediction, y_test)*100)"
   ]
  },
  {
   "cell_type": "markdown",
   "id": "41f94103",
   "metadata": {},
   "source": [
    "#### Result: Because linear regression have 2 dimentions and output is continues numbers, that is why it is not successfull. Linear Regression also can  not find the relationships between features."
   ]
  },
  {
   "cell_type": "markdown",
   "id": "cda32756",
   "metadata": {},
   "source": [
    "## Logistic Regression Before Scaling"
   ]
  },
  {
   "cell_type": "code",
   "execution_count": 41,
   "id": "fe13589d",
   "metadata": {},
   "outputs": [
    {
     "name": "stdout",
     "output_type": "stream",
     "text": [
      "Error rate:\n",
      "17.24137931034483\n"
     ]
    },
    {
     "name": "stderr",
     "output_type": "stream",
     "text": [
      "C:\\Users\\z004fuuz\\Anaconda3\\lib\\site-packages\\sklearn\\linear_model\\_logistic.py:763: ConvergenceWarning: lbfgs failed to converge (status=1):\n",
      "STOP: TOTAL NO. of ITERATIONS REACHED LIMIT.\n",
      "\n",
      "Increase the number of iterations (max_iter) or scale the data as shown in:\n",
      "    https://scikit-learn.org/stable/modules/preprocessing.html\n",
      "Please also refer to the documentation for alternative solver options:\n",
      "    https://scikit-learn.org/stable/modules/linear_model.html#logistic-regression\n",
      "  n_iter_i = _check_optimize_result(\n"
     ]
    }
   ],
   "source": [
    "from sklearn.linear_model import LogisticRegression\n",
    "logistic_regression_model = LogisticRegression()\n",
    "logistic_regression_model.fit(X_train, y_train)\n",
    "prediction = logistic_regression_model.predict(X_test)\n",
    "print(\"Error rate:\")\n",
    "print(mean_absolute_error(prediction, y_test)*100)"
   ]
  },
  {
   "cell_type": "markdown",
   "id": "56832785",
   "metadata": {},
   "source": [
    "## Logistic Regression After Scaling"
   ]
  },
  {
   "cell_type": "code",
   "execution_count": 42,
   "id": "d9d6db07",
   "metadata": {},
   "outputs": [
    {
     "name": "stdout",
     "output_type": "stream",
     "text": [
      "Error test rate:\n",
      "18.96551724137931\n",
      "Error train rate:\n",
      "13.100436681222707\n"
     ]
    }
   ],
   "source": [
    "from sklearn.linear_model import LogisticRegression\n",
    "\n",
    "logistic_regression_model = LogisticRegression()\n",
    "logistic_regression_model.fit(X_train_after_min_max_scaler, y_train)\n",
    "prediction = logistic_regression_model.predict(X_test_after_min_max_scaler)\n",
    "prediction_train = logistic_regression_model.predict(X_train_after_min_max_scaler)\n",
    "print(\"Error test rate:\")\n",
    "print(mean_absolute_error(prediction, y_test)*100)\n",
    "print(\"Error train rate:\")\n",
    "print(mean_absolute_error(prediction_train, y_train)*100)"
   ]
  },
  {
   "cell_type": "markdown",
   "id": "c1f8a21a",
   "metadata": {},
   "source": [
    "#### Result: After min max scaling, error rate is still high. "
   ]
  },
  {
   "cell_type": "code",
   "execution_count": 43,
   "id": "6e330acc",
   "metadata": {},
   "outputs": [
    {
     "name": "stdout",
     "output_type": "stream",
     "text": [
      "Error test rate:\n",
      "15.517241379310345\n",
      "Error train rate:\n",
      "12.663755458515283\n"
     ]
    }
   ],
   "source": [
    "logistic_regression_model = LogisticRegression()\n",
    "logistic_regression_model.fit(X_train_after_robust_scaler, y_train)\n",
    "prediction = logistic_regression_model.predict(X_test_after_robust_scaler)\n",
    "prediction_train = logistic_regression_model.predict(X_train_after_robust_scaler)\n",
    "print(\"Error test rate:\")\n",
    "print(mean_absolute_error(prediction, y_test)*100)\n",
    "print(\"Error train rate:\")\n",
    "print(mean_absolute_error(prediction_train, y_train)*100)"
   ]
  },
  {
   "cell_type": "markdown",
   "id": "b67f8a0a",
   "metadata": {},
   "source": [
    "#### Result: After robust scaling, error rate is still high. But train error < test error. I may mean overfit. Because of that I'll try ridge regression."
   ]
  },
  {
   "cell_type": "markdown",
   "id": "5a210565",
   "metadata": {},
   "source": [
    "## Ridge Regression"
   ]
  },
  {
   "cell_type": "code",
   "execution_count": 44,
   "id": "6767d282",
   "metadata": {},
   "outputs": [],
   "source": [
    "from sklearn.linear_model import Ridge"
   ]
  },
  {
   "cell_type": "code",
   "execution_count": 45,
   "id": "4e76e7b3",
   "metadata": {},
   "outputs": [
    {
     "name": "stdout",
     "output_type": "stream",
     "text": [
      "Error test rate:\n",
      "28.695548797381793\n"
     ]
    }
   ],
   "source": [
    "ridge = Ridge()\n",
    "ridge.fit(X_train_after_robust_scaler,y_train)\n",
    "ridge.alpha\n",
    "prediction_ridge=ridge.predict(X_test_after_robust_scaler)\n",
    "print(\"Error test rate:\")\n",
    "print(mean_absolute_error(prediction_ridge, y_test)*100)"
   ]
  },
  {
   "cell_type": "markdown",
   "id": "0156602d",
   "metadata": {},
   "source": [
    "#### Nope that was not it"
   ]
  },
  {
   "cell_type": "markdown",
   "id": "8be6722e",
   "metadata": {},
   "source": [
    "### Lasso Regression"
   ]
  },
  {
   "cell_type": "code",
   "execution_count": 46,
   "id": "79efebab",
   "metadata": {},
   "outputs": [],
   "source": [
    "from sklearn.linear_model import Lasso"
   ]
  },
  {
   "cell_type": "code",
   "execution_count": 47,
   "id": "c9938f99",
   "metadata": {},
   "outputs": [
    {
     "name": "stdout",
     "output_type": "stream",
     "text": [
      "Error test rate:\n",
      "49.232043366962806\n"
     ]
    }
   ],
   "source": [
    "ridge = Lasso()\n",
    "ridge.fit(X_train_after_robust_scaler,y_train)\n",
    "ridge.alpha\n",
    "prediction_ridge=ridge.predict(X_test_after_robust_scaler)\n",
    "print(\"Error test rate:\")\n",
    "print(mean_absolute_error(prediction_ridge, y_test)*100)"
   ]
  },
  {
   "cell_type": "markdown",
   "id": "7ce99f9c",
   "metadata": {},
   "source": [
    "#### Nope that was not it either"
   ]
  },
  {
   "cell_type": "markdown",
   "id": "bc6b67d9",
   "metadata": {},
   "source": [
    "### Best Model is so far Logistic Regression with Robust Scaler"
   ]
  },
  {
   "cell_type": "markdown",
   "id": "0ac27add",
   "metadata": {},
   "source": [
    "## SGDClassifier"
   ]
  },
  {
   "cell_type": "code",
   "execution_count": 60,
   "id": "55f6c391",
   "metadata": {},
   "outputs": [],
   "source": [
    "from sklearn.linear_model import SGDClassifier\n",
    "sgd_classifier = SGDClassifier()"
   ]
  },
  {
   "cell_type": "code",
   "execution_count": 61,
   "id": "bff003cf",
   "metadata": {},
   "outputs": [
    {
     "data": {
      "text/plain": [
       "(84, 22, 29, 94)"
      ]
     },
     "execution_count": 61,
     "metadata": {},
     "output_type": "execute_result"
    }
   ],
   "source": [
    "#Calculate Error Rate \n",
    "from sklearn.model_selection import cross_val_predict\n",
    "from sklearn.metrics import confusion_matrix\n",
    "#numpy.ravel = returns a flattened array\n",
    "\n",
    "y_train_pred = cross_val_predict(sgd_classifier, X_train_after_robust_scaler, y_train, cv=3)\n",
    "tn, fp, fn, tp = confusion_matrix(y_train, y_train_pred).ravel()\n",
    "tn, fp, fn, tp"
   ]
  },
  {
   "cell_type": "code",
   "execution_count": 62,
   "id": "f2f5bf68",
   "metadata": {},
   "outputs": [
    {
     "data": {
      "text/plain": [
       "(0.8103448275862069, 0.7433628318584071, 18.965517241379317)"
      ]
     },
     "execution_count": 62,
     "metadata": {},
     "output_type": "execute_result"
    }
   ],
   "source": [
    "positive_rate = tp / (tp + fp)\n",
    "negative_rate = tn / (tn + fn)\n",
    "positive_rate, negative_rate , (1-positive_rate)*100 #train prediction error"
   ]
  },
  {
   "cell_type": "code",
   "execution_count": 63,
   "id": "234757f0",
   "metadata": {},
   "outputs": [
    {
     "data": {
      "text/plain": [
       "(14, 9, 3, 32)"
      ]
     },
     "execution_count": 63,
     "metadata": {},
     "output_type": "execute_result"
    }
   ],
   "source": [
    "y_test_pred = cross_val_predict(sgd_classifier, X_test_after_robust_scaler, y_test, cv=3)\n",
    "tn, fp, fn, tp = confusion_matrix(y_test, y_test_pred).ravel()\n",
    "tn, fp, fn, tp\n"
   ]
  },
  {
   "cell_type": "code",
   "execution_count": 64,
   "id": "db0c4fa4",
   "metadata": {},
   "outputs": [
    {
     "data": {
      "text/plain": [
       "(0.7804878048780488, 0.8235294117647058, 21.95121951219512)"
      ]
     },
     "execution_count": 64,
     "metadata": {},
     "output_type": "execute_result"
    }
   ],
   "source": [
    "positive_rate = tp / (tp + fp)\n",
    "negative_rate = tn / (tn + fn)\n",
    "positive_rate, negative_rate , (1-positive_rate)*100 #test prediction error"
   ]
  },
  {
   "cell_type": "markdown",
   "id": "0300cb8e",
   "metadata": {},
   "source": [
    "## KNNClassification"
   ]
  },
  {
   "cell_type": "code",
   "execution_count": 65,
   "id": "8e6bca54",
   "metadata": {},
   "outputs": [
    {
     "name": "stdout",
     "output_type": "stream",
     "text": [
      "Fitting 5 folds for each of 6 candidates, totalling 30 fits\n",
      "[CV 1/5] END ....n_neighbors=3, weights=uniform;, score=0.804 total time=   0.0s\n",
      "[CV 2/5] END ....n_neighbors=3, weights=uniform;, score=0.804 total time=   0.0s\n",
      "[CV 3/5] END ....n_neighbors=3, weights=uniform;, score=0.783 total time=   0.0s\n",
      "[CV 4/5] END ....n_neighbors=3, weights=uniform;, score=0.783 total time=   0.0s\n",
      "[CV 5/5] END ....n_neighbors=3, weights=uniform;, score=0.778 total time=   0.0s\n",
      "[CV 1/5] END ...n_neighbors=3, weights=distance;, score=0.804 total time=   0.0s\n",
      "[CV 2/5] END ...n_neighbors=3, weights=distance;, score=0.804 total time=   0.0s\n",
      "[CV 3/5] END ...n_neighbors=3, weights=distance;, score=0.783 total time=   0.0s\n",
      "[CV 4/5] END ...n_neighbors=3, weights=distance;, score=0.783 total time=   0.0s\n",
      "[CV 5/5] END ...n_neighbors=3, weights=distance;, score=0.778 total time=   0.0s\n",
      "[CV 1/5] END ....n_neighbors=4, weights=uniform;, score=0.783 total time=   0.0s\n",
      "[CV 2/5] END ....n_neighbors=4, weights=uniform;, score=0.804 total time=   0.0s\n",
      "[CV 3/5] END ....n_neighbors=4, weights=uniform;, score=0.783 total time=   0.0s\n",
      "[CV 4/5] END ....n_neighbors=4, weights=uniform;, score=0.804 total time=   0.0s\n",
      "[CV 5/5] END ....n_neighbors=4, weights=uniform;, score=0.733 total time=   0.0s\n",
      "[CV 1/5] END ...n_neighbors=4, weights=distance;, score=0.804 total time=   0.0s\n",
      "[CV 2/5] END ...n_neighbors=4, weights=distance;, score=0.804 total time=   0.0s\n",
      "[CV 3/5] END ...n_neighbors=4, weights=distance;, score=0.804 total time=   0.0s\n",
      "[CV 4/5] END ...n_neighbors=4, weights=distance;, score=0.804 total time=   0.0s\n",
      "[CV 5/5] END ...n_neighbors=4, weights=distance;, score=0.756 total time=   0.0s\n",
      "[CV 1/5] END ....n_neighbors=5, weights=uniform;, score=0.848 total time=   0.0s\n",
      "[CV 2/5] END ....n_neighbors=5, weights=uniform;, score=0.848 total time=   0.0s\n",
      "[CV 3/5] END ....n_neighbors=5, weights=uniform;, score=0.804 total time=   0.0s\n",
      "[CV 4/5] END ....n_neighbors=5, weights=uniform;, score=0.804 total time=   0.0s\n",
      "[CV 5/5] END ....n_neighbors=5, weights=uniform;, score=0.778 total time=   0.0s\n",
      "[CV 1/5] END ...n_neighbors=5, weights=distance;, score=0.848 total time=   0.0s\n",
      "[CV 2/5] END ...n_neighbors=5, weights=distance;, score=0.848 total time=   0.0s\n",
      "[CV 3/5] END ...n_neighbors=5, weights=distance;, score=0.804 total time=   0.0s\n",
      "[CV 4/5] END ...n_neighbors=5, weights=distance;, score=0.804 total time=   0.0s\n",
      "[CV 5/5] END ...n_neighbors=5, weights=distance;, score=0.778 total time=   0.0s\n"
     ]
    },
    {
     "data": {
      "text/plain": [
       "GridSearchCV(cv=5, estimator=KNeighborsClassifier(),\n",
       "             param_grid=[{'n_neighbors': [3, 4, 5],\n",
       "                          'weights': ['uniform', 'distance']}],\n",
       "             verbose=3)"
      ]
     },
     "execution_count": 65,
     "metadata": {},
     "output_type": "execute_result"
    }
   ],
   "source": [
    "\n",
    "from sklearn.neighbors import KNeighborsClassifier\n",
    "\n",
    "param_grid = [{'weights': [\"uniform\", \"distance\"], 'n_neighbors': [3, 4, 5]}] \n",
    "\n",
    "knn_clf = KNeighborsClassifier()\n",
    "grid_search = GridSearchCV(knn_clf, param_grid, cv=5, verbose=3) #cv = cross validation number\n",
    "                                                                 #verbose = to make code tell what it is doing\n",
    "                                                                 #1: computation time\n",
    "                                                                 #2: computation time + score\n",
    "                                                                 #3: all information\n",
    "                                                                 #uniform: equal weights\n",
    "                                                                 #distance: weight by distance\n",
    "                                                                 #give parameter options so that grid search can select the best\n",
    "grid_search.fit(X_train_after_robust_scaler, y_train) #6 candidate = 2 diff weights x 3 diff neighbors number"
   ]
  },
  {
   "cell_type": "code",
   "execution_count": 67,
   "id": "a29a3fe7",
   "metadata": {},
   "outputs": [
    {
     "data": {
      "text/plain": [
       "18.357487922705307"
      ]
     },
     "execution_count": 67,
     "metadata": {},
     "output_type": "execute_result"
    }
   ],
   "source": [
    "(1-grid_search.best_score_ )*100"
   ]
  },
  {
   "cell_type": "markdown",
   "id": "c15300dc",
   "metadata": {},
   "source": [
    "## Support Vector Machine"
   ]
  },
  {
   "cell_type": "code",
   "execution_count": 72,
   "id": "d77e1521",
   "metadata": {},
   "outputs": [],
   "source": [
    "from sklearn.pipeline import Pipeline\n",
    "from sklearn.preprocessing import StandardScaler\n",
    "from sklearn.svm import LinearSVC"
   ]
  },
  {
   "cell_type": "code",
   "execution_count": 82,
   "id": "dec35cc7",
   "metadata": {},
   "outputs": [],
   "source": [
    "svm_clf = LinearSVC()\n",
    "svm_clf.fit(X_train_after_robust_scaler, y_train)\n",
    "y_train_pred = cross_val_predict(svm_clf, X_train_after_robust_scaler, y_train, cv=3)\n",
    "y_test_pred = cross_val_predict(svm_clf, X_test_after_robust_scaler, y_test, cv=3)"
   ]
  },
  {
   "cell_type": "code",
   "execution_count": 86,
   "id": "a4ebb19a",
   "metadata": {},
   "outputs": [
    {
     "data": {
      "text/plain": [
       "(84, 22, 12, 111)"
      ]
     },
     "execution_count": 86,
     "metadata": {},
     "output_type": "execute_result"
    }
   ],
   "source": [
    "tn, fp, fn, tp = confusion_matrix(y_train, y_train_pred).ravel()\n",
    "tn, fp, fn, tp"
   ]
  },
  {
   "cell_type": "code",
   "execution_count": 87,
   "id": "5a06f7c4",
   "metadata": {},
   "outputs": [
    {
     "data": {
      "text/plain": [
       "(0.8345864661654135, 0.875, 16.541353383458645)"
      ]
     },
     "execution_count": 87,
     "metadata": {},
     "output_type": "execute_result"
    }
   ],
   "source": [
    "positive_rate = tp / (tp + fp)\n",
    "negative_rate = tn / (tn + fn)\n",
    "positive_rate, negative_rate , (1-positive_rate)*100 #train prediction error"
   ]
  },
  {
   "cell_type": "code",
   "execution_count": 88,
   "id": "6a2aca81",
   "metadata": {},
   "outputs": [
    {
     "data": {
      "text/plain": [
       "(14, 9, 4, 31)"
      ]
     },
     "execution_count": 88,
     "metadata": {},
     "output_type": "execute_result"
    }
   ],
   "source": [
    "tn, fp, fn, tp = confusion_matrix(y_test, y_test_pred).ravel()\n",
    "tn, fp, fn, tp"
   ]
  },
  {
   "cell_type": "code",
   "execution_count": 89,
   "id": "707fb2ff",
   "metadata": {},
   "outputs": [
    {
     "data": {
      "text/plain": [
       "(0.775, 0.7777777777777778, 22.499999999999996)"
      ]
     },
     "execution_count": 89,
     "metadata": {},
     "output_type": "execute_result"
    }
   ],
   "source": [
    "positive_rate = tp / (tp + fp)\n",
    "negative_rate = tn / (tn + fn)\n",
    "positive_rate, negative_rate , (1-positive_rate)*100 #test prediction error"
   ]
  },
  {
   "cell_type": "markdown",
   "id": "d5c02e5e",
   "metadata": {},
   "source": [
    "## Desicion Tree"
   ]
  },
  {
   "cell_type": "code",
   "execution_count": 17,
   "id": "49b045ad",
   "metadata": {},
   "outputs": [
    {
     "data": {
      "text/plain": [
       "DecisionTreeClassifier()"
      ]
     },
     "execution_count": 17,
     "metadata": {},
     "output_type": "execute_result"
    }
   ],
   "source": [
    "from sklearn.tree import DecisionTreeClassifier\n",
    "from sklearn import tree\n",
    "tree_clf = DecisionTreeClassifier()\n",
    "tree_clf.fit(X_train_after_robust_scaler, y_train)\n"
   ]
  },
  {
   "cell_type": "code",
   "execution_count": 18,
   "id": "129a6ab7",
   "metadata": {},
   "outputs": [
    {
     "data": {
      "text/plain": [
       "array([0.66666667, 0.71604938, 0.75      ])"
      ]
     },
     "execution_count": 18,
     "metadata": {},
     "output_type": "execute_result"
    }
   ],
   "source": [
    "from sklearn.model_selection import cross_val_score\n",
    "cross_val_score(tree_clf, X_train_after_robust_scaler, y_train, cv=3)"
   ]
  },
  {
   "cell_type": "code",
   "execution_count": null,
   "id": "6a6b7aab",
   "metadata": {},
   "outputs": [],
   "source": []
  }
 ],
 "metadata": {
  "kernelspec": {
   "display_name": "Python 3 (ipykernel)",
   "language": "python",
   "name": "python3"
  },
  "language_info": {
   "codemirror_mode": {
    "name": "ipython",
    "version": 3
   },
   "file_extension": ".py",
   "mimetype": "text/x-python",
   "name": "python",
   "nbconvert_exporter": "python",
   "pygments_lexer": "ipython3",
   "version": "3.9.7"
  }
 },
 "nbformat": 4,
 "nbformat_minor": 5
}
